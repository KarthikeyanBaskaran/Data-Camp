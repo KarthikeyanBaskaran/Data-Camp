{
  "metadata": {
    "kernelspec": {
      "name": "python",
      "display_name": "Python (Pyodide)",
      "language": "python"
    },
    "language_info": {
      "codemirror_mode": {
        "name": "python",
        "version": 3
      },
      "file_extension": ".py",
      "mimetype": "text/x-python",
      "name": "python",
      "nbconvert_exporter": "python",
      "pygments_lexer": "ipython3",
      "version": "3.8"
    }
  },
  "nbformat_minor": 5,
  "nbformat": 4,
  "cells": [
    {
      "id": "c7b51fd1-82af-42de-8740-015bd4cb0953",
      "cell_type": "markdown",
      "source": "## Hypothesis Testing in Python",
      "metadata": {}
    },
    {
      "id": "f3c8e88c-8e64-4fb7-9888-4cbb1386994b",
      "cell_type": "markdown",
      "source": "### Calculating the sample mean",
      "metadata": {}
    },
    {
      "id": "b1a6623f-dd84-4b28-bc52-42877140e328",
      "cell_type": "code",
      "source": "# Print the late_shipments dataset\nprint(late_shipments)",
      "metadata": {},
      "outputs": [],
      "execution_count": null
    },
    {
      "id": "af0e0492-03a1-42bf-b5a5-02388083c5b5",
      "cell_type": "code",
      "source": "# Print the late_shipments dataset\nprint(late_shipments)\n\n# Calculate the proportion of late shipments\nlate_prop_samp = (late_shipments['late'] == 'Yes').mean()\n\n# Print the results\nprint(late_prop_samp)\n",
      "metadata": {},
      "outputs": [],
      "execution_count": null
    },
    {
      "id": "b9102179-f0cd-4848-91af-2cd8d8a31a8b",
      "cell_type": "markdown",
      "source": "## Calculating a z-score",
      "metadata": {}
    },
    {
      "id": "337ca2a4-bcb1-425b-ba6b-006b4be772c4",
      "cell_type": "code",
      "source": "# Hypothesize that the proportion is 6%\nlate_prop_hyp = 0.06\n\n# Calculate the standard error\nstd_error = np.std(late_shipments_boot_distn)\n\n# Find z-score of late_prop_samp\nz_score = (late_prop_samp - late_prop_hyp) / std_error\n\n# Print z_score\nprint(z_score)",
      "metadata": {},
      "outputs": [],
      "execution_count": null
    },
    {
      "id": "1239c3d5-6633-40c7-9ab1-c19ebc2aa044",
      "cell_type": "markdown",
      "source": "### Calculating p-values",
      "metadata": {}
    },
    {
      "id": "c73a7856-2b20-428c-b296-c146c3fbfb52",
      "cell_type": "code",
      "source": "# Calculate the z-score of late_prop_samp\nz_score = (late_prop_samp - late_prop_hyp) / std_error\n\n# Calculate the p-value for the z-score using a right-tailed test\np_value = 1 - norm.cdf(z_score)\n\n# Print the p-value\nprint(p_value)",
      "metadata": {},
      "outputs": [],
      "execution_count": null
    },
    {
      "id": "494f85c4-6daf-46a4-9b7f-f53aa283a597",
      "cell_type": "markdown",
      "source": "### Calculating a confidence interval",
      "metadata": {
        "tags": []
      }
    },
    {
      "id": "4f010135-817e-4b30-85e1-f4ad4d7380ea",
      "cell_type": "code",
      "source": "# Calculate 95% confidence interval using quantile method\nlower = np.percentile(late_shipments_boot_distn, 2.5)\nupper = np.percentile(late_shipments_boot_distn, 97.5)\n\n# Print the confidence interval\nprint((lower, upper))\n",
      "metadata": {},
      "outputs": [],
      "execution_count": null
    },
    {
      "id": "5f225cf5-71b1-4bd5-87e3-2fe80b642b65",
      "cell_type": "markdown",
      "source": "### Two sample mean test statistic",
      "metadata": {}
    },
    {
      "id": "dec6cdb6-9817-4afd-a76a-7ee01106abe0",
      "cell_type": "code",
      "source": "# Calculate the numerator of the test statistic\nnumerator = xbar_no - xbar_yes\n\n# Calculate the denominator of the test statistic\ndenominator = np.sqrt((s_no**2 / n_no) + (s_yes**2 / n_yes))\n\n# Calculate the test statistic\nt_stat = numerator / denominator\n\n# Print the test statistic\nprint(t_stat)\n",
      "metadata": {},
      "outputs": [],
      "execution_count": null
    },
    {
      "id": "6dbb2bf8-ba6e-46e2-bdf1-ce40ae59559c",
      "cell_type": "markdown",
      "source": "### From t to p",
      "metadata": {}
    },
    {
      "id": "94e2fc89-7529-407f-875a-95d447f45669",
      "cell_type": "code",
      "source": "# Calculate the degrees of freedom\ndegrees_of_freedom = n_no + n_yes - 2\n\n# Calculate the p-value from the test stat\np_value = t.cdf(t_stat, degrees_of_freedom)\n\n# Print the p_value\nprint(p_value)",
      "metadata": {},
      "outputs": [],
      "execution_count": null
    },
    {
      "id": "2dec20ee-15ae-4dd1-bcae-a8a3428369d9",
      "cell_type": "markdown",
      "source": "### Visualizing the difference",
      "metadata": {}
    },
    {
      "id": "9d5e5d61-4282-4f4a-a827-a056e029e6ba",
      "cell_type": "code",
      "source": "# Calculate the differences from 2012 to 2016\nsample_dem_data['diff'] = sample_dem_data['dem_percent_12'] - sample_dem_data['dem_percent_16']\n\n# Print sample_dem_data\nprint(sample_dem_data)",
      "metadata": {
        "trusted": true
      },
      "outputs": [],
      "execution_count": null
    },
    {
      "id": "86d2029e-7b92-4b35-8a08-da6e5a934058",
      "cell_type": "code",
      "source": "# Calculate the differences from 2012 to 2016\nsample_dem_data['diff'] = sample_dem_data['dem_percent_12'] - sample_dem_data['dem_percent_16']\n\n# Find the mean of the 'diff' column\nxbar_diff = sample_dem_data['diff'].mean()\n\n# Print xbar_diff\nprint(xbar_diff)\n",
      "metadata": {},
      "outputs": [],
      "execution_count": null
    },
    {
      "id": "00681bf3-3e52-408d-a5ee-7c039f3e436b",
      "cell_type": "code",
      "source": "# Calculate the differences from 2012 to 2016\nsample_dem_data['diff'] = sample_dem_data['dem_percent_12'] - sample_dem_data['dem_percent_16']\n\n# Find the mean of the 'diff' column\nxbar_diff = sample_dem_data['diff'].mean()\n\n# Print xbar_diff\nprint(xbar_diff)\n",
      "metadata": {},
      "outputs": [],
      "execution_count": null
    },
    {
      "id": "b4b8d9ed-5549-4f84-b07a-5172414811da",
      "cell_type": "code",
      "source": "# Calculate the differences from 2012 to 2016\nsample_dem_data['diff'] = sample_dem_data['dem_percent_12'] - sample_dem_data['dem_percent_16']\n\n# Find the mean of the 'diff' column\nxbar_diff = sample_dem_data['diff'].mean()\n\n# Find the standard deviation of the 'diff' column\ns_diff = sample_dem_data['diff'].std()\n\n# Print s_diff\nprint(s_diff)\n",
      "metadata": {},
      "outputs": [],
      "execution_count": null
    },
    {
      "id": "eb32bb68-5e2a-4a4c-9375-fe6f6c495de1",
      "cell_type": "code",
      "source": "# Calculate the differences from 2012 to 2016\nsample_dem_data['diff'] = sample_dem_data['dem_percent_12'] - sample_dem_data['dem_percent_16']\n\n# Find the mean of the 'diff' column\nxbar_diff = sample_dem_data['diff'].mean()\n\n# Find the standard deviation of the 'diff' column\ns_diff = sample_dem_data['diff'].std()\n\n# Plot a histogram of 'diff' with 20 bins\nsample_dem_data['diff'].hist(bins=20)\n\n# Show the plot\nplt.show()\n",
      "metadata": {},
      "outputs": [],
      "execution_count": null
    },
    {
      "id": "ac7b275b-5d9c-4c09-bb9b-b62259b5b6ab",
      "cell_type": "markdown",
      "source": "### Using ttest()",
      "metadata": {}
    },
    {
      "id": "e481c863-d7ac-445f-8821-3ce31c3f1c74",
      "cell_type": "code",
      "source": "# Conduct a t-test on diff\ntest_results = pingouin.ttest(x=sample_dem_data['diff'], \n                              y=0, \n                              alternative=\"two-sided\")\n                              \n# Print the test results\nprint(test_results)",
      "metadata": {},
      "outputs": [],
      "execution_count": null
    },
    {
      "id": "48bac1ca-124d-4772-a0ae-1d008319d8ee",
      "cell_type": "code",
      "source": "# Conduct a t-test on diff\ntest_results = pingouin.ttest(x=sample_dem_data['diff'], \n                              y=0, \n                              alternative=\"two-sided\")\n\n# Conduct a paired t-test on 'dem_percent_12' and 'dem_percent_16'\npaired_test_results = pingouin.ttest(sample_dem_data['dem_percent_12'], sample_dem_data['dem_percent_16'], paired=True, alternative='two-sided')\n\n# Print the paired test results\nprint(paired_test_results)",
      "metadata": {},
      "outputs": [],
      "execution_count": null
    },
    {
      "id": "5248f56e-522d-497f-b521-16e040cc0ab5",
      "cell_type": "markdown",
      "source": "### Visualizing many categories",
      "metadata": {}
    },
    {
      "id": "4fb0037d-629d-4531-9a6d-09d7a9944834",
      "cell_type": "code",
      "source": "# Calculate the mean pack_price for each shipment_mode\nxbar_pack_by_mode = late_shipments.groupby('shipment_mode')['pack_price'].mean()\n\n# Print the grouped means\nprint(xbar_pack_by_mode)",
      "metadata": {},
      "outputs": [],
      "execution_count": null
    },
    {
      "id": "688e2c2c-a8aa-4e32-b599-c66a0374460e",
      "cell_type": "code",
      "source": "# Calculate the mean pack_price for each shipment_mode\nxbar_pack_by_mode = late_shipments.groupby(\"shipment_mode\")['pack_price'].mean()\n\n# Calculate the standard deviation of the pack_price for each shipment_mode\ns_pack_by_mode = late_shipments.groupby(\"shipment_mode\")['pack_price'].std()\n\n# Print the grouped standard deviations\nprint(s_pack_by_mode)",
      "metadata": {},
      "outputs": [],
      "execution_count": null
    },
    {
      "id": "4af247ae-5a19-445c-a932-1678d5d40682",
      "cell_type": "code",
      "source": "# Calculate the mean pack_price for each shipment_mode\nxbar_pack_by_mode = late_shipments.groupby(\"shipment_mode\")['pack_price'].mean()\n\n# Calculate the standard deviation of the pack_price for each shipment_mode\ns_pack_by_mode = late_shipments.groupby(\"shipment_mode\")['pack_price'].std()\n\n# Boxplot of shipment_mode vs. pack_price\nsns.boxplot(x='pack_price', y='shipment_mode', data=late_shipments)\n\n# Show the plot\nplt.show()\n",
      "metadata": {},
      "outputs": [],
      "execution_count": null
    },
    {
      "id": "f2904019-ac82-451b-a9df-04540e78d0b8",
      "cell_type": "markdown",
      "source": "### Conducting an ANOVA test",
      "metadata": {}
    },
    {
      "id": "ffbf9078-c694-41b8-94de-1308d4c9f4e3",
      "cell_type": "code",
      "source": "# Run an ANOVA for pack_price across shipment_mode\nanova_results = pingouin.anova(data=late_shipments, dv='pack_price', between='shipment_mode')\n\n# Print anova_results\nprint(anova_results)",
      "metadata": {},
      "outputs": [],
      "execution_count": null
    },
    {
      "id": "44c7d6d5-8afe-45a5-a7a5-d8e6e16d9ae8",
      "cell_type": "markdown",
      "source": "### Pairwise t-tests",
      "metadata": {}
    },
    {
      "id": "ff06bd65-6362-4ee4-856e-28634a795c5e",
      "cell_type": "code",
      "source": "# Perform a pairwise t-test on pack price, grouped by shipment mode\npairwise_results = pingouin.pairwise_ttests(data=late_shipments, dv='pack_price', between='shipment_mode', padjust='none')\n\n# Print pairwise_results\nprint(pairwise_results)\n",
      "metadata": {},
      "outputs": [],
      "execution_count": null
    },
    {
      "id": "31fbe2c9-1b4d-4c29-b292-28d6ef34c9ef",
      "cell_type": "code",
      "source": "# Modify the pairwise t-tests to use Bonferroni p-value adjustment\npairwise_results = pingouin.pairwise_tests(data=late_shipments, \n                                           dv=\"pack_price\",\n                                           between=\"shipment_mode\",\n                                           padjust=\"bonf\")\n\n# Print pairwise_results\nprint(pairwise_results)",
      "metadata": {},
      "outputs": [],
      "execution_count": null
    },
    {
      "id": "6ee27fd3-f5fd-4c89-b814-287fad188640",
      "cell_type": "markdown",
      "source": "### Test for single proportions",
      "metadata": {}
    },
    {
      "id": "039aae58-6198-4d43-a3ac-4b6c06cd9909",
      "cell_type": "code",
      "source": "# Hypothesize that the proportion of late shipments is 6%\np_0 = 0.06\n\n# Calculate the sample proportion of late shipments\np_hat = (late_shipments['late'] == 'Yes').mean()\n\n# Calculate the sample size\nn = len(late_shipments)\n\n# Print p_hat and n\nprint(p_hat,n)",
      "metadata": {},
      "outputs": [],
      "execution_count": null
    },
    {
      "id": "07fc1954-d49d-4ce8-905e-9a66c9194c9e",
      "cell_type": "code",
      "source": "# Hypothesize that the proportion of late shipments is 6%\np_0 = 0.06\n\n# Calculate the sample proportion of late shipments\np_hat = (late_shipments['late'] == 'Yes').mean()\n\n# Calculate the sample size\nn = len(late_shipments)\n\n# Calculate the numerator and denominator of the test statistic\nnumerator = p_hat - p_0\ndenominator = np.sqrt((p_0 * (1 - p_0)) / n)\n\n# Calculate the test statistic (z-score)\nz_score = numerator / denominator\n\n# Print the result\nprint(\"Z-Score:\", z_score)",
      "metadata": {},
      "outputs": [],
      "execution_count": null
    },
    {
      "id": "162f6272-811b-47c4-a597-083c5a63e69d",
      "cell_type": "code",
      "source": "# Hypothesize that the proportion of late shipments is 6%\np_0 = 0.06\n\n# Calculate the sample proportion of late shipments\np_hat = (late_shipments['late'] == 'Yes').mean()\n\n# Calculate the sample size\nn = len(late_shipments)\n\n# Calculate the numerator and denominator of the test statistic\nnumerator = p_hat - p_0\ndenominator = np.sqrt(p_0 * (1 - p_0) / n)\n\n# Calculate the test statistic (z-score)\nz_score = numerator / denominator\n\n# Calculate the p-value from the z-score for a \"greater than\" test\np_value = 1 - norm.cdf(z_score)\n\n# Print the p-value\nprint(\"P-Value:\", p_value)",
      "metadata": {},
      "outputs": [],
      "execution_count": null
    },
    {
      "id": "52b7c3e5-92a0-4239-a679-029d6a4c4625",
      "cell_type": "markdown",
      "source": "### Test of two proportions",
      "metadata": {}
    },
    {
      "id": "b75f4cca-243d-4405-9688-cfc56114bedd",
      "cell_type": "code",
      "source": "# Calculate the pooled estimate of the population proportion\np_hat = (p_hats[\"reasonable\"] * ns[\"reasonable\"] + p_hats[\"expensive\"] * ns[\"expensive\"]) / (ns[\"reasonable\"] + ns[\"expensive\"])\n\n# Print the result\nprint(p_hat)",
      "metadata": {},
      "outputs": [],
      "execution_count": null
    },
    {
      "id": "5de6ff5f-37ff-47c6-86a3-4cd45e174cfa",
      "cell_type": "code",
      "source": "# Calculate the pooled estimate of the population proportion\np_hat = (p_hats[\"reasonable\"] * ns[\"reasonable\"] + p_hats[\"expensive\"] * ns[\"expensive\"]) / (ns[\"reasonable\"] + ns[\"expensive\"])\n\n# Calculate p_hat one minus p_hat\np_hat_times_not_p_hat = p_hat * (1 - p_hat)\n\n# Divide this by each of the sample sizes and then sum\np_hat_times_not_p_hat_over_ns = p_hat_times_not_p_hat / ns[\"expensive\"] + p_hat_times_not_p_hat / ns[\"reasonable\"]\n\n# Calculate the standard error\nstd_error = np.sqrt(p_hat_times_not_p_hat_over_ns)\n\n# Print the result\nprint(std_error)",
      "metadata": {},
      "outputs": [],
      "execution_count": null
    },
    {
      "id": "78a96ec1-61b2-4f92-94a4-5783169aa121",
      "cell_type": "code",
      "source": "# Calculate the pooled estimate of the population proportion\np_hat = (p_hats[\"reasonable\"] * ns[\"reasonable\"] + p_hats[\"expensive\"] * ns[\"expensive\"]) / (ns[\"reasonable\"] + ns[\"expensive\"])\n\n# Calculate p_hat one minus p_hat\np_hat_times_not_p_hat = p_hat * (1 - p_hat)\n\n# Divide this by each of the sample sizes and then sum\np_hat_times_not_p_hat_over_ns = p_hat_times_not_p_hat / ns[\"expensive\"] + p_hat_times_not_p_hat / ns[\"reasonable\"]\n\n# Calculate the standard error\nstd_error = np.sqrt(p_hat_times_not_p_hat_over_ns)\n\n# Calculate the z-score\nz_score = (p_hats[\"expensive\"] - p_hats[\"reasonable\"]) / std_error\n\n# Print z_score\nprint(z_score)",
      "metadata": {},
      "outputs": [],
      "execution_count": null
    },
    {
      "id": "329836b8-2789-4cc3-a5e7-180cc1509f12",
      "cell_type": "code",
      "source": "# Calculate the pooled estimate of the population proportion\np_hat = (p_hats[\"reasonable\"] * ns[\"reasonable\"] + p_hats[\"expensive\"] * ns[\"expensive\"]) / (ns[\"reasonable\"] + ns[\"expensive\"])\n\n# Calculate p_hat one minus p_hat\np_hat_times_not_p_hat = p_hat * (1 - p_hat)\n\n# Divide this by each of the sample sizes and then sum\np_hat_times_not_p_hat_over_ns = p_hat_times_not_p_hat / ns[\"expensive\"] + p_hat_times_not_p_hat / ns[\"reasonable\"]\n\n# Calculate the standard error\nstd_error = np.sqrt(p_hat_times_not_p_hat_over_ns)\n\n# Calculate the z-score\nz_score = (p_hats[\"expensive\"] - p_hats[\"reasonable\"]) / std_error\n\n# Calculate the p-value from the z-score\np_value = 1-norm.cdf(z_score)\n\n# Print p_value\nprint(p_value)",
      "metadata": {},
      "outputs": [],
      "execution_count": null
    },
    {
      "id": "d1c08fb7-aca8-4704-b85f-42ae1b269394",
      "cell_type": "markdown",
      "source": "### proportions_ztest() for two samples",
      "metadata": {}
    },
    {
      "id": "9f8f2fb8-b536-47be-bfbc-9aca5a667f64",
      "cell_type": "code",
      "source": "# Count the late column values for each freight_cost_group\nlate_by_freight_cost_group = late_shipments.groupby('freight_cost_group')['late'].value_counts()\n\n# Print the counts\nprint(late_by_freight_cost_group)\n",
      "metadata": {},
      "outputs": [],
      "execution_count": null
    },
    {
      "id": "49273ba7-6a91-4415-9b74-1b821244537d",
      "cell_type": "code",
      "source": "# Count the late column values for each freight_cost_group\nlate_by_freight_cost_group = late_shipments.groupby(\"freight_cost_group\")['late'].value_counts()\n\n# Create an array of the \"Yes\" counts for each freight_cost_group\nsuccess_counts = np.array([late_by_freight_cost_group['expensive', 'Yes'], late_by_freight_cost_group['reasonable', 'Yes']])\n\n# Create an array of the total number of rows in each freight_cost_group\nn = np.array([len(late_shipments[late_shipments['freight_cost_group'] == 'expensive']),\n              len(late_shipments[late_shipments['freight_cost_group'] == 'reasonable'])])\n\n# Run a z-test on the two proportions\nstat, p_value = proportions_ztest(success_counts, n, alternative=\"larger\")\n\n\n\n# Print the results\nprint(stat, p_value)",
      "metadata": {},
      "outputs": [],
      "execution_count": null
    },
    {
      "id": "44c6aab5-b35b-4345-9779-6d155436ee3e",
      "cell_type": "markdown",
      "source": "### Performing a chi-square test",
      "metadata": {}
    },
    {
      "id": "9e15c044-8d68-4870-abbb-f3185a2abfd1",
      "cell_type": "code",
      "source": "# Proportion of freight_cost_group grouped by vendor_inco_term\nprops = late_shipments.groupby('vendor_inco_term')['freight_cost_group'].value_counts(normalize=True)\n\n# Print props\nprint(props)",
      "metadata": {},
      "outputs": [],
      "execution_count": null
    },
    {
      "id": "fb3b6df6-6b34-4450-8578-f8f019519be7",
      "cell_type": "code",
      "source": "# Proportion of freight_cost_group grouped by vendor_inco_term\nprops = late_shipments.groupby('vendor_inco_term')['freight_cost_group'].value_counts(normalize=True)\n\n# Convert props to wide format\nwide_props = props.unstack()\n\n# Print wide_props\nprint(wide_props)\n",
      "metadata": {},
      "outputs": [],
      "execution_count": null
    },
    {
      "id": "f95fadd0-bbd0-443d-95b6-2a63b4544b3e",
      "cell_type": "code",
      "source": "# Proportion of freight_cost_group grouped by vendor_inco_term\nprops = late_shipments.groupby('vendor_inco_term')['freight_cost_group'].value_counts(normalize=True)\n\n# Convert props to wide format\nwide_props = props.unstack()\n\n# Proportional stacked bar plot of freight_cost_group vs. vendor_inco_term\nwide_props.plot(kind=\"bar\", stacked=True)\nplt.show()\n\n# Determine if freight_cost_group and vendor_inco_term are independent\nexpected, observed, stats = pingouin.chi2_independence(data=late_shipments, x='freight_cost_group', y='vendor_inco_term')\n\n# Print results\nprint(stats[stats['test'] == 'pearson'])",
      "metadata": {},
      "outputs": [],
      "execution_count": null
    },
    {
      "id": "e3886b72-68d5-4de5-b4dd-e0c322abb69c",
      "cell_type": "code",
      "source": "# Proportion of freight_cost_group grouped by vendor_inco_term\nprops = late_shipments.groupby('vendor_inco_term')['freight_cost_group'].value_counts(normalize=True)\n\n# Convert props to wide format\nwide_props = props.unstack()\n\n# Proportional stacked bar plot of freight_cost_group vs. vendor_inco_term\nwide_props.plot(kind=\"bar\", stacked=True)\nplt.show()\n\n# Determine if freight_cost_group and vendor_inco_term are independent\nexpected, observed, stats = pingouin.chi2_independence(data=late_shipments, x='freight_cost_group', y='vendor_inco_term')\n\n# Print results\nprint(stats[stats['test'] == 'pearson'])",
      "metadata": {
        "trusted": true
      },
      "outputs": [],
      "execution_count": null
    },
    {
      "id": "20234f8e-6dc2-4494-80e2-365795890c43",
      "cell_type": "markdown",
      "source": "### Visualizing goodness of fit",
      "metadata": {}
    },
    {
      "id": "86ad4171-f375-4512-82d4-d36e17de5dca",
      "cell_type": "code",
      "source": "# Find the number of rows in late_shipments\nn_total = len(late_shipments)\n\n# Print n_total\nprint(n_total)",
      "metadata": {
        "trusted": true
      },
      "outputs": [],
      "execution_count": null
    },
    {
      "id": "77a69bce-82b5-49f5-8aea-0587fab06451",
      "cell_type": "code",
      "source": "# Find the number of rows in late_shipments\nn_total = len(late_shipments)\n\n# Create n column that is prop column * n_total\nhypothesized['n'] = hypothesized['prop'] * n_total\n\n# Print the modified hypothesized DataFrame\nprint(hypothesized)",
      "metadata": {},
      "outputs": [],
      "execution_count": null
    },
    {
      "id": "3ed1152e-c5f3-49d5-8af8-885fd05fc6a2",
      "cell_type": "code",
      "source": "# Find the number of rows in late_shipments\nn_total = len(late_shipments)\n\n# Create n column that is prop column * n_total\nhypothesized[\"n\"] = hypothesized[\"prop\"] * n_total\n\n# Plot a red bar graph of n vs. vendor_inco_term for incoterm_counts\nplt.bar(incoterm_counts['vendor_inco_term'], incoterm_counts['n'], color=\"red\", label=\"Observed\")\nplt.legend()\nplt.show()",
      "metadata": {},
      "outputs": [],
      "execution_count": null
    },
    {
      "id": "0398b089-d564-4dec-bca2-b69506b4d19b",
      "cell_type": "code",
      "source": "# Find the number of rows in late_shipments\nn_total = len(late_shipments)\n\n# Create n column that is prop column * n_total\nhypothesized[\"n\"] = hypothesized[\"prop\"] * n_total\n\n# Plot a red bar graph of n vs. vendor_inco_term for incoterm_counts\nplt.bar(incoterm_counts['vendor_inco_term'], incoterm_counts['n'], color=\"red\", label=\"Observed\")\n\n# Add a blue bar plot for the hypothesized counts\nplt.bar(hypothesized['vendor_inco_term'], hypothesized['n'], alpha=0.5, color=\"blue\", label=\"Hypothesized\")\nplt.legend()\nplt.show()",
      "metadata": {},
      "outputs": [],
      "execution_count": null
    },
    {
      "id": "360a2960-ad3b-4ec3-ad80-7bd85f94aa71",
      "cell_type": "markdown",
      "source": "### Performing a goodness of fit test",
      "metadata": {}
    },
    {
      "id": "0e2a7642-237c-4aa2-b0d0-93116c47a57c",
      "cell_type": "code",
      "source": "# Perform a goodness of fit test on the incoterm counts n\ngof_test = chisquare(f_obs=incoterm_counts['n'], f_exp=hypothesized['n'])\n\n# Print gof_test results\nprint(gof_test)",
      "metadata": {},
      "outputs": [],
      "execution_count": null
    },
    {
      "id": "0356d240-5485-42b9-b142-65a3c9fa1db1",
      "cell_type": "markdown",
      "source": "### Testing sample size",
      "metadata": {}
    },
    {
      "id": "c0ba38cb-dfd2-4865-ac56-5213d6e6b1ab",
      "cell_type": "code",
      "source": "# Count the freight_cost_group values\ncounts = late_shipments['freight_cost_group'].value_counts()\n\n# Print the result\nprint(counts)\n\n# Inspect whether the counts are big enough\nprint((counts >= 30).all())\n",
      "metadata": {},
      "outputs": [],
      "execution_count": null
    },
    {
      "id": "9d670fe4-8058-4ff6-aeb9-df2709c7cc47",
      "cell_type": "code",
      "source": "# Count the late values\ncounts = late_shipments['late'].value_counts()\n\n# Print the result\nprint(counts)\n\n# Inspect whether the counts are big enough\nprint((counts >= 10).all())\n",
      "metadata": {},
      "outputs": [],
      "execution_count": null
    },
    {
      "id": "28944c20-ca23-4f65-b20b-b5f8ace3c309",
      "cell_type": "code",
      "source": "# Count the values of freight_cost_group grouped by vendor_inco_term\ncounts = late_shipments.groupby('vendor_inco_term')['freight_cost_group'].value_counts()\n\n# Print the result\nprint(counts)\n\n# Inspect whether the counts are big enough for a chi-square independence test\nprint((counts >= 5).all())\n",
      "metadata": {},
      "outputs": [],
      "execution_count": null
    },
    {
      "id": "6bfbef46-4f7f-4588-98df-4bfaafa49741",
      "cell_type": "code",
      "source": "# Count the shipment_mode values\ncounts = late_shipments['shipment_mode'].value_counts()\n\n# Print the result\nprint(counts)\n\n# Inspect whether the counts are big enough for an ANOVA test\nprint((counts >= 30).all())\n",
      "metadata": {},
      "outputs": [],
      "execution_count": null
    },
    {
      "id": "512943e8-d9fb-4dac-a65d-bc3736b7cded",
      "cell_type": "markdown",
      "source": "### Wilcoxon signed-rank test",
      "metadata": {}
    },
    {
      "id": "36504f50-ce9d-43f8-8e9f-38f3856e1ad7",
      "cell_type": "code",
      "source": "# Conduct a paired t-test on dem_percent_12 and dem_percent_16\npaired_test_results = pingouin.ttest(x=sample_dem_data['dem_percent_12'], y=sample_dem_data['dem_percent_16'], paired=True, alternative='two-sided')\n\n# Print paired t-test results\nprint(paired_test_results)\n",
      "metadata": {},
      "outputs": [],
      "execution_count": null
    },
    {
      "id": "b3233680-4869-4cc2-8ff7-75f0b6f20bb6",
      "cell_type": "code",
      "source": "# Conduct a Wilcoxon test on dem_percent_12 and dem_percent_16\nwilcoxon_test_results = pingouin.wilcoxon(x=sample_dem_data['dem_percent_12'], y=sample_dem_data['dem_percent_16'])\n\n# Print Wilcoxon test results\nprint(wilcoxon_test_results)\n",
      "metadata": {},
      "outputs": [],
      "execution_count": null
    },
    {
      "id": "af2227ea-be58-4509-8923-86dcdf1dc47f",
      "cell_type": "markdown",
      "source": "### Wilcoxon-Mann-Whitney",
      "metadata": {}
    },
    {
      "id": "697eee33-8887-412a-9594-60373f4ed7b7",
      "cell_type": "code",
      "source": "# Select the weight_kilograms and late columns\nweight_vs_late = late_shipments[[\"weight_kilograms\", \"late\"]]\n\n# Convert weight_vs_late into wide format\nweight_vs_late_wide = weight_vs_late.pivot(columns='late', \n                                           values='weight_kilograms')\n\n# Run a two-sided Wilcoxon-Mann-Whitney test on weight_kilograms vs. late\nwmw_test = pingouin.mwu(x=weight_vs_late_wide['No'],\n                        y=weight_vs_late_wide['Yes'],\n                        alternative='two-sided')\n\n# Print the test results\nprint(wmw_test)",
      "metadata": {},
      "outputs": [],
      "execution_count": null
    },
    {
      "id": "470d68b5-90ad-4216-b357-8a07db39e6b4",
      "cell_type": "markdown",
      "source": "### Kruskal-Wallis",
      "metadata": {}
    },
    {
      "id": "b7dcbc9d-643d-43e8-9b25-09f76698b344",
      "cell_type": "code",
      "source": "# Run a Kruskal-Wallis test on weight_kilograms vs. shipment_mode\nkw_test = pingouin.kruskal(data=late_shipments, dv='weight_kilograms', between='shipment_mode')\n\n# Print the results\nprint(kw_test)",
      "metadata": {},
      "outputs": [],
      "execution_count": null
    }
  ]
}